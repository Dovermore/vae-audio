{
 "cells": [
  {
   "cell_type": "code",
   "execution_count": 1,
   "id": "offensive-oxford",
   "metadata": {},
   "outputs": [],
   "source": [
    "from model.model import SpecVAE\n",
    "from data_loader.data_loaders import EscDataLoader\n",
    "from dataset import transformers\n",
    "import numpy as np\n",
    "import matplotlib.pyplot as plt\n",
    "import torch\n",
    "from torch.nn import functional as F\n",
    "from torch.optim import Adam"
   ]
  },
  {
   "cell_type": "code",
   "execution_count": 100,
   "id": "advanced-bidder",
   "metadata": {},
   "outputs": [],
   "source": [
    "input_size = [64, 15]\n",
    "latent_dim = 32\n",
    "is_featExtract = False\n",
    "n_convLayer = 3\n",
    "n_convChannel = [32, 16, 8]\n",
    "filter_size = [1, 3, 3]\n",
    "stride = [1, 2, 2]\n",
    "n_fcLayer = 1\n",
    "n_fcChannel = [256]\n",
    "activation = \"leaky_relu\"\n",
    "\n",
    "model = SpecVAE(input_size=input_size, latent_dim=latent_dim, is_featExtract=is_featExtract, n_convLayer=n_convLayer,\n",
    "                n_convChannel=n_convChannel, filter_size=filter_size, stride=stride, n_fcLayer=n_fcLayer,\n",
    "                n_fcChannel=n_fcChannel, activation=activation)\n",
    "\n",
    "data_dir = \"~/data/esc/esc10-spectro1/data\"\n",
    "path_to_meta = \"~/data/esc/meta/esc10.csv\"\n",
    "batch_size = 32\n",
    "shuffle = True\n",
    "validation_split = 0\n",
    "num_workers = 0\n",
    "folds = [1, 2, 3, 4]\n",
    "samples = None\n",
    "\n",
    "dataloader = EscDataLoader(data_dir=data_dir, path_to_meta=path_to_meta, batch_size=batch_size,\n",
    "                           shuffle=shuffle, validation_split=validation_split, num_workers=num_workers,\n",
    "                           folds=folds, samples=samples)\n",
    "idx, label, data = next(iter(dataloader))"
   ]
  },
  {
   "cell_type": "code",
   "execution_count": 101,
   "id": "blond-gothic",
   "metadata": {},
   "outputs": [
    {
     "data": {
      "text/plain": [
       "(torch.Size([2, 32]), torch.Size([2, 64, 15]))"
      ]
     },
     "execution_count": 101,
     "metadata": {},
     "output_type": "execute_result"
    }
   ],
   "source": [
    "x = data.reshape(-1, data.size(2), data.size(3))[:2]\n",
    "#model.encoder(x).size(), model.flat_size\n",
    "mu, logvar, z = model.encode(x)\n",
    "x_recon = model.decode(z)\n",
    "z.size(), x_recon.size()"
   ]
  },
  {
   "cell_type": "code",
   "execution_count": 102,
   "id": "amino-television",
   "metadata": {},
   "outputs": [
    {
     "data": {
      "text/plain": [
       "(tensor([3521315.5000, 2430733.0000], grad_fn=<SumBackward1>), torch.Size([2]))"
      ]
     },
     "execution_count": 102,
     "metadata": {},
     "output_type": "execute_result"
    }
   ],
   "source": [
    "dim_to_sum = list(range(1, len(x.size())))\n",
    "loss = F.mse_loss(x, x_recon, reduction=\"none\").sum(dim=dim_to_sum)\n",
    "loss, loss.size()"
   ]
  },
  {
   "cell_type": "code",
   "execution_count": 103,
   "id": "silver-engagement",
   "metadata": {},
   "outputs": [
    {
     "name": "stdout",
     "output_type": "stream",
     "text": [
      "iter: 0, loss: 2975407.50\n",
      "iter: 100, loss: 854617.19\n",
      "iter: 200, loss: 123905.02\n",
      "iter: 300, loss: 88247.94\n",
      "iter: 400, loss: 56548.87\n",
      "iter: 500, loss: 48453.43\n",
      "iter: 600, loss: 30070.66\n",
      "iter: 700, loss: 21510.47\n",
      "iter: 800, loss: 18699.83\n",
      "iter: 900, loss: 30537.47\n"
     ]
    }
   ],
   "source": [
    "n_iter = 1000\n",
    "\n",
    "optimizer = Adam(model.parameters(), lr=0.1)\n",
    "for i in range(n_iter):\n",
    "    optimizer.zero_grad()\n",
    "    x_recon, *_ = model(x)\n",
    "    loss = F.mse_loss(x, x_recon, reduction=\"none\").sum(dim=dim_to_sum)\n",
    "    loss = loss.mean()\n",
    "    loss.backward()\n",
    "    optimizer.step()\n",
    "    if not i % 100:\n",
    "        print(f\"iter: {i}, loss: {loss.item():.2f}\")"
   ]
  },
  {
   "cell_type": "code",
   "execution_count": 116,
   "id": "competitive-metro",
   "metadata": {},
   "outputs": [],
   "source": [
    "arr = transformers.LoadNumpyAry()(\"/Users/Dovermore/data/esc/esc10-spectro1/data/1-4211-A-12.npy\")\n",
    "x = transformers.SpecChunking(duration=2.5, sr=22050, hop_size=735, reverse=False)(arr)"
   ]
  },
  {
   "cell_type": "code",
   "execution_count": 117,
   "id": "announced-fundamentals",
   "metadata": {},
   "outputs": [
    {
     "data": {
      "text/plain": [
       "((64, 151), (2, 64, 75))"
      ]
     },
     "execution_count": 117,
     "metadata": {},
     "output_type": "execute_result"
    }
   ],
   "source": [
    "arr.shape, x.shape"
   ]
  }
 ],
 "metadata": {
  "kernelspec": {
   "display_name": "Python 3",
   "language": "python",
   "name": "python3"
  },
  "language_info": {
   "codemirror_mode": {
    "name": "ipython",
    "version": 3
   },
   "file_extension": ".py",
   "mimetype": "text/x-python",
   "name": "python",
   "nbconvert_exporter": "python",
   "pygments_lexer": "ipython3",
   "version": "3.7.4"
  }
 },
 "nbformat": 4,
 "nbformat_minor": 5
}
